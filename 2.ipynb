{
  "cells": [
    {
      "cell_type": "markdown",
      "metadata": {
        "id": "view-in-github",
        "colab_type": "text"
      },
      "source": [
        "<a href=\"https://colab.research.google.com/github/suryarasp/EasyGA/blob/version1/2.ipynb\" target=\"_parent\"><img src=\"https://colab.research.google.com/assets/colab-badge.svg\" alt=\"Open In Colab\"/></a>"
      ]
    },
    {
      "cell_type": "code",
      "source": [
        "from google.colab import drive\n",
        "drive.mount('/content/drive')"
      ],
      "metadata": {
        "id": "bQlWb5WZKT4V",
        "outputId": "3e84f6f1-79d4-4a14-c318-8f83a1ac08ca",
        "colab": {
          "base_uri": "https://localhost:8080/"
        }
      },
      "execution_count": null,
      "outputs": [
        {
          "output_type": "stream",
          "name": "stdout",
          "text": [
            "Mounted at /content/drive\n"
          ]
        }
      ]
    },
    {
      "cell_type": "markdown",
      "source": [
        "https://pypi.org/project/geneticalgorithm/#:~:text=geneticalgorithm%20is%20a%20Python%20library,algorithm%20(GA)%20in%20Python."
      ],
      "metadata": {
        "id": "iM-myneiMLnb"
      }
    },
    {
      "cell_type": "code",
      "source": [
        "pip install geneticalgorithm"
      ],
      "metadata": {
        "colab": {
          "base_uri": "https://localhost:8080/"
        },
        "id": "bcIr4s5OL9pq",
        "outputId": "ce4caa76-7159-46da-9a1b-8fb435c49ac2"
      },
      "execution_count": null,
      "outputs": [
        {
          "output_type": "stream",
          "name": "stdout",
          "text": [
            "Looking in indexes: https://pypi.org/simple, https://us-python.pkg.dev/colab-wheels/public/simple/\n",
            "Collecting geneticalgorithm\n",
            "  Downloading geneticalgorithm-1.0.2-py3-none-any.whl (16 kB)\n",
            "Requirement already satisfied: numpy in /usr/local/lib/python3.7/dist-packages (from geneticalgorithm) (1.21.6)\n",
            "Collecting func-timeout\n",
            "  Downloading func_timeout-4.3.5.tar.gz (44 kB)\n",
            "\u001b[K     |████████████████████████████████| 44 kB 2.0 MB/s \n",
            "\u001b[?25hBuilding wheels for collected packages: func-timeout\n",
            "  Building wheel for func-timeout (setup.py) ... \u001b[?25l\u001b[?25hdone\n",
            "  Created wheel for func-timeout: filename=func_timeout-4.3.5-py3-none-any.whl size=15098 sha256=0941635730c7c9b96f5c3a171aa26f69eca8b36a0ca90ec1816180774a5aa078\n",
            "  Stored in directory: /root/.cache/pip/wheels/68/b5/a5/67c4364c354e141f5a1bd3ec568126f77877ab7554cf5af8cb\n",
            "Successfully built func-timeout\n",
            "Installing collected packages: func-timeout, geneticalgorithm\n",
            "Successfully installed func-timeout-4.3.5 geneticalgorithm-1.0.2\n"
          ]
        }
      ]
    },
    {
      "cell_type": "code",
      "source": [
        "import EasyGA\n",
        "import  random \n",
        "# Create the Genetic algorithm\n",
        "ga = EasyGA.GA()\n",
        "\n",
        "# Evolve the whole genetic algorithm until termination has been reached\n",
        "ga.chromosome_length=4\n",
        "ga.population_size=10\n",
        "ga.generation_goal=100\n",
        "ic0=[0,0] \n",
        "def finalCoord(ic0, cs):\n",
        "#takes one chromosome and gives final coordinate Positions and list of coordinates\n",
        "    lisc=[]\n",
        "    stp=100\n",
        "    ic=[0,0]\n",
        "    ind=0\n",
        "    for j in cs[-2:]:\n",
        "        stp=cs.gene_list[ind].value\n",
        "        \n",
        "        print(\"direction,step\",j,stp)\n",
        "        if j==\"L\":\n",
        "            ic[0]=ic[0]+stp\n",
        "            ic[1]=ic[1]\n",
        "        if j==\"R\":\n",
        "            ic[0]=ic[0]-stp\n",
        "            ic[1]=ic[1]\n",
        "            print(\"x, y \",ic[0],ic[1])\n",
        "        if j==\"U\":\n",
        "            ic[0]=ic[0]\n",
        "            ic[1]=ic[1]+stp\n",
        "        if j==\"D\":\n",
        "            ic[0]=ic[0]\n",
        "            ic[1]=ic[1]-stp\n",
        "        else:\n",
        "            ic[0]=ic[0]\n",
        "            ic[1]=ic[1]\n",
        "        ind+=1\n",
        "\n",
        "        lisc.append([ic[0],ic[1]])\n",
        "        \n",
        "        \n",
        "    return(lisc)\n",
        "#ga.gene_impl=lambda: random.randint(1,10)\n",
        "#ga.gene_impl = lambda: random.choice([\"U\",\"L\",\"R\",\"D\",\"Z\"]) \n",
        "\n",
        "def user_chromosome_function():\n",
        "    \"\"\"Return a list of data representing a chromosome\"\"\"\n",
        "    chromosome_data = [\n",
        "        # Gene instructions set here\n",
        "        random.randrange(1,100),\n",
        "        random.randrange(1,100),\n",
        "        random.choice([\"U\",\"D\",\"L\",\"R\"]),\n",
        "    \n",
        "        random.choice([\"U\",\"D\",\"L\",\"R\"])\n",
        "    ]\n",
        "    #for i in range(3):\n",
        "      #chromosome_data.append(random.randrange(0,100))\n",
        "      #chromosome_data.append(random.choice([\"u\",\"d\"]))\n",
        "    print(chromosome_data)\n",
        "    return chromosome_data\n",
        "\n",
        "\n",
        "\n",
        "def fitfunc1(chromosome):\n",
        " # print('chromosome',chromosome.gene_list[0])\n",
        "  temp=finalCoord((0,0), chromosome)\n",
        "  print(\"chromosome,final coord\",chromosome,temp[-1])\n",
        "  #fitness=abs(150-temp[-1][0]-temp[-1][1])\n",
        "  fitness=(3-temp[-1][0])**2+(90-temp[-1][1])**2\n",
        "  print(\"fitness\",fitness)\n",
        "  return(fitness)\n",
        "\n",
        "ga.chromosome_impl = user_chromosome_function\n",
        "ga.fitness_function_impl =fitfunc1\n",
        "ga.target_fitness_type = 'min'    \n",
        "ga.evolve()\n",
        "# Print out the current generation and the population\n",
        "ga.print_generation()\n",
        "ga.print_population()\n",
        "ga.graph.highest_value_chromosome() \n",
        "ga.graph.show()"
      ],
      "metadata": {
        "id": "yl87ZD3IeHCj"
      },
      "execution_count": null,
      "outputs": []
    }
  ],
  "metadata": {
    "colab": {
      "collapsed_sections": [],
      "name": "2",
      "provenance": [],
      "include_colab_link": true
    },
    "kernelspec": {
      "display_name": "Python 3",
      "name": "python3"
    }
  },
  "nbformat": 4,
  "nbformat_minor": 0
}